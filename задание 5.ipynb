{
 "cells": [
  {
   "cell_type": "code",
   "execution_count": 1,
   "metadata": {},
   "outputs": [],
   "source": [
    "import pandahouse as ph\n",
    "import pandas as pd "
   ]
  },
  {
   "cell_type": "code",
   "execution_count": 2,
   "metadata": {},
   "outputs": [],
   "source": [
    "connection_default = {'host': 'http://clickhouse.beslan.pro:8080',\n",
    "                      'database':'default',\n",
    "                      'user':'student', \n",
    "                      'password':'dpo_python_2020'\n",
    "                     }"
   ]
  },
  {
   "cell_type": "code",
   "execution_count": 50,
   "metadata": {},
   "outputs": [],
   "source": [
    "# создаем запрос, db автоматически заменится на значение из database\n",
    "q = '''\n",
    "    SELECT DISTINCT host_id, host_verifications\n",
    "    FROM \n",
    "        ldn_listings \n",
    "    WHERE experiences_offered != 'none'\n",
    "    '''\n",
    "\n",
    "# отправляем запрос и записываем результат в пандасовский датафрейм\n",
    "verifications = ph.read_clickhouse(query=q, connection=connection_default)\n",
    "# verifications"
   ]
  },
  {
   "cell_type": "code",
   "execution_count": 51,
   "metadata": {},
   "outputs": [],
   "source": [
    "verifications['columns'] = verifications.host_verifications.apply(lambda x: x.strip('[]').split(','))"
   ]
  },
  {
   "cell_type": "code",
   "execution_count": 52,
   "metadata": {},
   "outputs": [],
   "source": [
    "verifications1 = verifications['columns'].explode('columns').value_counts()"
   ]
  },
  {
   "cell_type": "code",
   "execution_count": 53,
   "metadata": {},
   "outputs": [
    {
     "data": {
      "text/plain": [
       " 'phone'                    1345\n",
       "'email'                     1345\n",
       " 'reviews'                  1309\n",
       " 'government_id'            1196\n",
       " 'jumio'                    1115\n",
       " 'offline_government_id'     469\n",
       " 'work_email'                279\n",
       " 'facebook'                  270\n",
       " 'selfie'                    252\n",
       " 'identity_manual'           227\n",
       " 'manual_offline'             70\n",
       " 'google'                     34\n",
       " 'kba'                        27\n",
       "'phone'                       16\n",
       " 'manual_online'              16\n",
       " 'sent_id'                     6\n",
       "Name: columns, dtype: int64"
      ]
     },
     "execution_count": 53,
     "metadata": {},
     "output_type": "execute_result"
    }
   ],
   "source": [
    "verifications1"
   ]
  },
  {
   "cell_type": "code",
   "execution_count": null,
   "metadata": {},
   "outputs": [],
   "source": []
  },
  {
   "cell_type": "code",
   "execution_count": null,
   "metadata": {},
   "outputs": [],
   "source": []
  }
 ],
 "metadata": {
  "kernelspec": {
   "display_name": "Python 3",
   "language": "python",
   "name": "python3"
  },
  "language_info": {
   "codemirror_mode": {
    "name": "ipython",
    "version": 3
   },
   "file_extension": ".py",
   "mimetype": "text/x-python",
   "name": "python",
   "nbconvert_exporter": "python",
   "pygments_lexer": "ipython3",
   "version": "3.7.3"
  }
 },
 "nbformat": 4,
 "nbformat_minor": 4
}
